{
 "cells": [
  {
   "cell_type": "markdown",
   "metadata": {},
   "source": [
    "# Analyse de Data Drift avec Evidently"
   ]
  },
  {
   "cell_type": "code",
   "execution_count": null,
   "metadata": {
    "vscode": {
     "languageId": "plaintext"
    }
   },
   "outputs": [],
   "source": [
    "# evidently_analysis.ipynb\n",
    "import pandas as pd\n",
    "from evidently.dashboard import Dashboard\n",
    "from evidently.tabs import DataDriftTab\n",
    "\n",
    "train_data = pd.read_csv(\"path/to/application_train.csv\")\n",
    "test_data = pd.read_csv(\"path/to/application_test.csv\")\n",
    "\n",
    "dashboard = Dashboard(tabs=[DataDriftTab()])\n",
    "dashboard.calculate(train_data, test_data)\n",
    "\n",
    "# Générer un rapport HTML\n",
    "dashboard.save(\"evidently_report.html\")\n"
   ]
  }
 ],
 "metadata": {
  "language_info": {
   "name": "python"
  }
 },
 "nbformat": 4,
 "nbformat_minor": 2
}
