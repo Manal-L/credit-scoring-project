{
 "cells": [
  {
   "cell_type": "markdown",
   "metadata": {},
   "source": [
    "# Notebook pour l'entraînement et le suivi avec MLFlow"
   ]
  },
  {
   "cell_type": "code",
   "execution_count": 1,
   "metadata": {},
   "outputs": [],
   "source": [
    "import pandas as pd\n",
    "import sklearn\n",
    "import mlflow\n",
    "import evidently\n"
   ]
  },
  {
   "cell_type": "code",
   "execution_count": 3,
   "metadata": {},
   "outputs": [
    {
     "name": "stdout",
     "output_type": "stream",
     "text": [
      "   ID  AGE  INCOME  CREDIT_SCORE  LOAN_AMOUNT  DURATION  TARGET\n",
      "0   1   30   53107           381        15694        45       0\n",
      "1   2   22   41920           574        47094        56       0\n",
      "2   3   58   99948           497        41705        22       1\n",
      "3   4   18   59422           656        32160        54       0\n",
      "4   5   23   65241           495        37032        19       0\n"
     ]
    }
   ],
   "source": [
    "import numpy as np\n",
    "\n",
    "# Définir le nombre d'échantillons\n",
    "num_samples = 1000\n",
    "\n",
    "# Créer un DataFrame avec des colonnes fictives\n",
    "data = pd.DataFrame({\n",
    "    'ID': range(1, num_samples + 1),  # Un identifiant unique pour chaque échantillon\n",
    "    'AGE': np.random.randint(18, 70, num_samples),  # Âge entre 18 et 70 ans\n",
    "    'INCOME': np.random.randint(20000, 120000, num_samples),  # Revenu annuel\n",
    "    'CREDIT_SCORE': np.random.randint(300, 850, num_samples),  # Score de crédit entre 300 et 850\n",
    "    'LOAN_AMOUNT': np.random.randint(1000, 50000, num_samples),  # Montant du prêt\n",
    "    'DURATION': np.random.randint(6, 60, num_samples),  # Durée du prêt en mois\n",
    "    'TARGET': np.random.choice([0, 1], num_samples)  # Cible binaire (0 = non, 1 = oui)\n",
    "})\n",
    "\n",
    "# Enregistrer le DataFrame en tant que fichier CSV\n",
    "data.to_csv(\"application_train.csv\", index=False)\n",
    "\n",
    "print(data.head())\n"
   ]
  },
  {
   "cell_type": "code",
   "execution_count": 1,
   "metadata": {},
   "outputs": [
    {
     "name": "stdout",
     "output_type": "stream",
     "text": [
      "Début de l'entraînement du modèle.\n",
      "Optimisation des hyperparamètres terminée.\n"
     ]
    },
    {
     "name": "stderr",
     "output_type": "stream",
     "text": [
      "2024/10/14 13:00:19 WARNING mlflow.models.model: Model logged without a signature and input example. Please set `input_example` parameter when logging the model to auto infer the model signature.\n"
     ]
    },
    {
     "name": "stdout",
     "output_type": "stream",
     "text": [
      "Modèle enregistré avec AUC : 0.597125916993267\n"
     ]
    }
   ],
   "source": [
    "import pandas as pd\n",
    "from sklearn.model_selection import train_test_split, GridSearchCV\n",
    "from sklearn.ensemble import RandomForestClassifier\n",
    "from sklearn.metrics import roc_auc_score, accuracy_score\n",
    "import mlflow\n",
    "import mlflow.sklearn\n",
    "\n",
    "# Charger les données\n",
    "data = pd.read_csv(\"../models/application_train.csv\")\n",
    "X = data.drop('TARGET', axis=1)\n",
    "y = data['TARGET']\n",
    "\n",
    "# Diviser les données en train/test\n",
    "X_train, X_test, y_train, y_test = train_test_split(X, y, test_size=0.2, random_state=42)\n",
    "\n",
    "# Initialiser MLFlow\n",
    "mlflow.set_experiment(\"Credit Scoring\")\n",
    "\n",
    "# Entraîner le modèle\n",
    "with mlflow.start_run() as run:\n",
    "    print(\"Début de l'entraînement du modèle.\")\n",
    "    \n",
    "    clf = RandomForestClassifier()\n",
    "    \n",
    "    # Utiliser GridSearchCV pour optimiser les hyperparamètres\n",
    "    param_grid = {'n_estimators': [100, 200], 'max_depth': [10, 20]}\n",
    "    grid_search = GridSearchCV(clf, param_grid, cv=5)\n",
    "    grid_search.fit(X_train, y_train)\n",
    "    \n",
    "    print(\"Optimisation des hyperparamètres terminée.\")\n",
    "    \n",
    "    # Prédiction et évaluation\n",
    "    y_pred = grid_search.predict(X_test)\n",
    "    auc_score = roc_auc_score(y_test, y_pred)\n",
    "    accuracy = accuracy_score(y_test, y_pred)\n",
    "\n",
    "    # Log des métriques et modèle dans MLFlow\n",
    "    mlflow.log_param(\"best_params\", grid_search.best_params_)\n",
    "    mlflow.log_metric(\"AUC\", auc_score)\n",
    "    mlflow.log_metric(\"Accuracy\", accuracy)\n",
    "    \n",
    "    # Enregistrer le modèle\n",
    "    mlflow.sklearn.log_model(grid_search.best_estimator_, \"model\")\n",
    "    \n",
    "    print(\"Modèle enregistré avec AUC :\", auc_score)\n"
   ]
  },
  {
   "cell_type": "code",
   "execution_count": 7,
   "metadata": {},
   "outputs": [
    {
     "name": "stderr",
     "output_type": "stream",
     "text": [
      "2024/10/14 11:28:23 INFO mlflow.tracking.fluent: Experiment with name 'Credit Scoring' does not exist. Creating a new experiment.\n",
      "2024/10/14 11:28:38 WARNING mlflow.models.model: Model logged without a signature and input example. Please set `input_example` parameter when logging the model to auto infer the model signature.\n"
     ]
    },
    {
     "name": "stdout",
     "output_type": "stream",
     "text": [
      "Modèle enregistré avec AUC : 0.5777308813184605\n"
     ]
    }
   ],
   "source": [
    "# train_model.ipynb\n",
    "\n",
    "import pandas as pd\n",
    "from sklearn.model_selection import train_test_split, GridSearchCV\n",
    "from sklearn.ensemble import RandomForestClassifier\n",
    "from sklearn.metrics import roc_auc_score, accuracy_score\n",
    "import mlflow\n",
    "import mlflow.sklearn\n",
    "\n",
    "# Charger les données\n",
    "data = pd.read_csv(\"../models/application_train.csv\")\n",
    "X = data.drop('TARGET', axis=1)\n",
    "y = data['TARGET']\n",
    "\n",
    "# Diviser les données en train/test\n",
    "X_train, X_test, y_train, y_test = train_test_split(X, y, test_size=0.2, random_state=42)\n",
    "\n",
    "# Initialiser MLFlow\n",
    "mlflow.set_experiment(\"Credit Scoring\")\n",
    "\n",
    "# Entraîner le modèle\n",
    "with mlflow.start_run():\n",
    "    clf = RandomForestClassifier()\n",
    "    \n",
    "    # Utiliser GridSearchCV pour optimiser les hyperparamètres\n",
    "    param_grid = {'n_estimators': [100, 200], 'max_depth': [10, 20]}\n",
    "    grid_search = GridSearchCV(clf, param_grid, cv=5)\n",
    "    grid_search.fit(X_train, y_train)\n",
    "    \n",
    "    # Prédiction et évaluation\n",
    "    y_pred = grid_search.predict(X_test)\n",
    "    auc_score = roc_auc_score(y_test, y_pred)\n",
    "    accuracy = accuracy_score(y_test, y_pred)\n",
    "\n",
    "    # Log des métriques et modèle dans MLFlow\n",
    "    mlflow.log_param(\"best_params\", grid_search.best_params_)\n",
    "    mlflow.log_metric(\"AUC\", auc_score)\n",
    "    mlflow.log_metric(\"Accuracy\", accuracy)\n",
    "    \n",
    "    # Enregistrer le modèle\n",
    "    mlflow.sklearn.log_model(grid_search.best_estimator_, \"model\")\n",
    "    \n",
    "    print(\"Modèle enregistré avec AUC :\", auc_score)\n"
   ]
  }
 ],
 "metadata": {
  "kernelspec": {
   "display_name": "venv",
   "language": "python",
   "name": "python3"
  },
  "language_info": {
   "codemirror_mode": {
    "name": "ipython",
    "version": 3
   },
   "file_extension": ".py",
   "mimetype": "text/x-python",
   "name": "python",
   "nbconvert_exporter": "python",
   "pygments_lexer": "ipython3",
   "version": "3.12.6"
  }
 },
 "nbformat": 4,
 "nbformat_minor": 2
}
